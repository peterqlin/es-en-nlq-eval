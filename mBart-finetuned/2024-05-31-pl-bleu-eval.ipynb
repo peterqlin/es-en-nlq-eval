{
 "cells": [
  {
   "cell_type": "code",
   "execution_count": null,
   "id": "a94616e0-5d5e-46b9-8d71-e0a2efae3a23",
   "metadata": {},
   "outputs": [],
   "source": [
    "import pandas as pd\n",
    "\n",
    "# Load the cleaned Spanish -> English dataset\n",
    "df = pd.read_csv('../datasets/cleaned_es_en_dataset.csv', delimiter=';', encoding='utf-8')\n",
    "inputs = df['input_text'].tolist()\n",
    "references = df['reference_translation'].tolist()\n",
    "references_lower = [s.lower() for s in references]\n",
    "\n",
    "# Load the translated text dataset\n",
    "tr_df = pd.read_csv('../translated-datasets/mbart-large-finetuned-opus-es-en-translated_es_en_dataset.csv', delimiter=';', encoding='utf-8')\n",
    "translations = tr_df['translated_text'].tolist()\n",
    "translations_lower = [s.lower() for s in translations]"
   ]
  },
  {
   "cell_type": "code",
   "execution_count": null,
   "id": "c4fcd833-f42b-46d2-b451-e4ecbd69f135",
   "metadata": {},
   "outputs": [],
   "source": [
    "from nltk.translate.bleu_score import sentence_bleu, SmoothingFunction\n",
    "\n",
    "# Function to calculate BLEU score for each pair of sentences\n",
    "def calculate_bleu(reference, translation):\n",
    "    reference_tokens = reference.split()\n",
    "    translation_tokens = translation.split()\n",
    "    smoothie = SmoothingFunction().method4\n",
    "    return sentence_bleu([reference_tokens], translation_tokens, smoothing_function=smoothie)\n",
    "\n",
    "# Calculate BLEU scores\n",
    "bleu_scores = [calculate_bleu(ref, trans) for ref, trans in zip(references_lower, translations_lower)]\n",
    "\n",
    "# Average BLEU score (0.09)\n",
    "average_bleu = sum(bleu_scores) / len(bleu_scores)\n",
    "print(f'Average BLEU score: {average_bleu:.4f}')\n",
    "print('===================================================')\n",
    "\n",
    "# Print individual translations and their BLEU scores\n",
    "for input_text, ref, trans, bleu in zip(inputs, references_lower, translations_lower, bleu_scores):\n",
    "    print(f'Input: {input_text}')\n",
    "    print(f'Reference: {ref}')\n",
    "    print(f'Translation: {trans}')\n",
    "    print(f'BLEU score: {bleu:.4f}\\n')"
   ]
  },
  {
   "cell_type": "code",
   "execution_count": null,
   "id": "8712fe4b-9bda-4a87-88fc-0f4724a39806",
   "metadata": {},
   "outputs": [],
   "source": []
  }
 ],
 "metadata": {
  "kernelspec": {
   "display_name": "Python 3 (ipykernel)",
   "language": "python",
   "name": "python3"
  },
  "language_info": {
   "codemirror_mode": {
    "name": "ipython",
    "version": 3
   },
   "file_extension": ".py",
   "mimetype": "text/x-python",
   "name": "python",
   "nbconvert_exporter": "python",
   "pygments_lexer": "ipython3",
   "version": "3.11.3"
  }
 },
 "nbformat": 4,
 "nbformat_minor": 5
}
