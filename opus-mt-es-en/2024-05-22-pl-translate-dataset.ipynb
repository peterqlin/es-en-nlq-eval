{
 "cells": [
  {
   "cell_type": "code",
   "execution_count": null,
   "id": "d20498dd-203e-47f5-bbb9-df60819e2975",
   "metadata": {},
   "outputs": [],
   "source": [
    "import pandas as pd\n",
    "\n",
    "# Load the cleaned Spanish -> English dataset\n",
    "df = pd.read_csv('../datasets/cleaned_es_en_dataset.csv', delimiter=';', encoding='utf-8')\n",
    "inputs = df['input_text'].tolist()"
   ]
  },
  {
   "cell_type": "code",
   "execution_count": null,
   "id": "78cc15f3-bb03-4a04-82f3-353273a4cc95",
   "metadata": {},
   "outputs": [],
   "source": [
    "from transformers import pipeline\n",
    "\n",
    "# Initialize the translation pipeline\n",
    "translator = pipeline('translation', model='Helsinki-NLP/opus-mt-es-en')"
   ]
  },
  {
   "cell_type": "code",
   "execution_count": null,
   "id": "bfa36a80-ed01-4fcd-850d-a278c0f67c59",
   "metadata": {},
   "outputs": [],
   "source": [
    "import time\n",
    "\n",
    "# Generate translations (takes ~4.5 minutes)\n",
    "translations = []\n",
    "times = []\n",
    "token_counts = []\n",
    "for text in inputs:\n",
    "    tokens = text.split()\n",
    "    token_count = len(tokens)\n",
    "    \n",
    "    start_time = time.time()\n",
    "    translation = translator(text)[0]['translation_text']\n",
    "    end_time = time.time()\n",
    "    \n",
    "    translations.append(translation)\n",
    "    times.append(end_time - start_time)\n",
    "    token_counts.append(token_count)    \n",
    "\n",
    "# translations = [translator(text)[0]['translation_text'] for text in inputs]\n",
    "\n",
    "total_time = sum(times)\n",
    "total_tokens = sum(token_counts)\n",
    "average_time_per_token = total_time / total_tokens"
   ]
  },
  {
   "cell_type": "code",
   "execution_count": null,
   "id": "3704f8f2-4240-401b-852f-997caddc71c9",
   "metadata": {},
   "outputs": [],
   "source": [
    "print(f'Total time taken: {total_time:.6f} seconds')\n",
    "print(f'Total number of tokens: {total_tokens}')\n",
    "print(f'Average time per token: {average_time_per_token:.6f} seconds')\n",
    "print('=================================================================')\n",
    "\n",
    "for text, translation, duration, token_count in zip(inputs, translations, times, token_counts):\n",
    "    print(f'Spanish text: {text}')\n",
    "    print(f'English translation: {translation}')\n",
    "    print(f'Time taken: {duration:.6f} seconds')\n",
    "    print(f'Number of tokens: {token_count}\\n')"
   ]
  },
  {
   "cell_type": "code",
   "execution_count": null,
   "id": "8de88764-fd20-4ae6-9162-4e1f88d81c52",
   "metadata": {},
   "outputs": [],
   "source": [
    "# Save translated text to a new CSV file\n",
    "tr_df = pd.DataFrame(translations, columns=['translated_text'])\n",
    "tr_df.to_csv('../translated-datasets/opus-mt-es-en-translated_es_en_dataset.csv', sep=';', index=False)"
   ]
  }
 ],
 "metadata": {
  "kernelspec": {
   "display_name": "Python 3 (ipykernel)",
   "language": "python",
   "name": "python3"
  },
  "language_info": {
   "codemirror_mode": {
    "name": "ipython",
    "version": 3
   },
   "file_extension": ".py",
   "mimetype": "text/x-python",
   "name": "python",
   "nbconvert_exporter": "python",
   "pygments_lexer": "ipython3",
   "version": "3.11.3"
  }
 },
 "nbformat": 4,
 "nbformat_minor": 5
}
