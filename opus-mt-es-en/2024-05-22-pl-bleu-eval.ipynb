{
 "cells": [
  {
   "cell_type": "code",
   "execution_count": null,
   "id": "e1c5f863-2e6d-4248-ae8d-456581a2c272",
   "metadata": {},
   "outputs": [],
   "source": [
    "import pandas as pd\n",
    "\n",
    "# Load the cleaned Spanish -> English dataset\n",
    "df = pd.read_csv('../datasets/cleaned_es_en_dataset.csv', delimiter=';', encoding='utf-8')\n",
    "inputs = df['input_text'].tolist()\n",
    "references = df['reference_translation'].tolist()\n",
    "references_lower = [s.lower() for s in references]\n",
    "\n",
    "# Load the translated text dataset\n",
    "tr_df = pd.read_csv('../translated-datasets/opus-mt-es-en-translated_es_en_dataset.csv', delimiter=';', encoding='utf-8')\n",
    "translations = tr_df['translated_text'].tolist()\n",
    "translations_lower = [s.lower() for s in translations]"
   ]
  },
  {
   "cell_type": "code",
   "execution_count": null,
   "id": "7da10e76-f436-4bd4-8ba9-c8073f813f73",
   "metadata": {},
   "outputs": [],
   "source": [
    "from nltk.translate.bleu_score import sentence_bleu, SmoothingFunction\n",
    "\n",
    "# Function to calculate BLEU score for each pair of sentences\n",
    "def calculate_bleu(reference, translation):\n",
    "    reference_tokens = reference.split()\n",
    "    translation_tokens = translation.split()\n",
    "    smoothie = SmoothingFunction().method4\n",
    "    return sentence_bleu([reference_tokens], translation_tokens, smoothing_function=smoothie)\n",
    "\n",
    "# Calculate BLEU scores\n",
    "bleu_scores = [calculate_bleu(ref, trans) for ref, trans in zip(references_lower, translations_lower)]\n",
    "\n",
    "# Average BLEU score (0.28)\n",
    "average_bleu = sum(bleu_scores) / len(bleu_scores)\n",
    "print(f'Average BLEU score: {average_bleu:.2f}')\n",
    "print('===================================================')\n",
    "\n",
    "# Print individual translations and their BLEU scores\n",
    "for input_text, ref, trans, bleu in zip(inputs, references_lower, translations_lower, bleu_scores):\n",
    "    print(f'Input: {input_text}')\n",
    "    print(f'Reference: {ref}')\n",
    "    print(f'Translation: {trans}')\n",
    "    print(f'BLEU score: {bleu:.2f}\\n')"
   ]
  },
  {
   "cell_type": "code",
   "execution_count": null,
   "id": "811f37f5-ab29-432c-bff5-a2137ed4c9a4",
   "metadata": {},
   "outputs": [],
   "source": []
  }
 ],
 "metadata": {
  "kernelspec": {
   "display_name": "Python 3 (ipykernel)",
   "language": "python",
   "name": "python3"
  },
  "language_info": {
   "codemirror_mode": {
    "name": "ipython",
    "version": 3
   },
   "file_extension": ".py",
   "mimetype": "text/x-python",
   "name": "python",
   "nbconvert_exporter": "python",
   "pygments_lexer": "ipython3",
   "version": "3.11.3"
  }
 },
 "nbformat": 4,
 "nbformat_minor": 5
}
