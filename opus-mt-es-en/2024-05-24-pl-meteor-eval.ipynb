{
 "cells": [
  {
   "cell_type": "code",
   "execution_count": null,
   "id": "aa5bc0c0-fa53-49c1-b407-75cb358a8eb1",
   "metadata": {},
   "outputs": [],
   "source": [
    "import pandas as pd\n",
    "\n",
    "# Load the cleaned Spanish -> English dataset\n",
    "df = pd.read_csv('../datasets/cleaned_es_en_dataset.csv', delimiter=';', encoding='utf-8')\n",
    "inputs = df['input_text'].tolist()\n",
    "references = df['reference_translation'].tolist()\n",
    "references_lower = [s.lower() for s in references]\n",
    "\n",
    "# Load the translated text dataset\n",
    "tr_df = pd.read_csv('../translated-datasets/opus-mt-es-en-translated_es_en_dataset.csv', delimiter=';', encoding='utf-8')\n",
    "translations = tr_df['translated_text'].tolist()\n",
    "translations_lower = [s.lower() for s in translations]"
   ]
  },
  {
   "cell_type": "code",
   "execution_count": null,
   "id": "212804e3-f89b-4376-8c89-95af072817a4",
   "metadata": {},
   "outputs": [],
   "source": [
    "import nltk\n",
    "from nltk.translate.meteor_score import meteor_score\n",
    "nltk.download('punkt')\n",
    "nltk.download('wordnet')\n",
    "\n",
    "tokenized_translations = [nltk.word_tokenize(trans) for trans in translations_lower]\n",
    "tokenized_references = [nltk.word_tokenize(ref) for ref in references_lower]\n",
    "\n",
    "meteor_scores = [meteor_score([ref], trans) for ref, trans in zip(tokenized_references, tokenized_translations)]\n",
    "\n",
    "# Average METEOR score (0.67)\n",
    "average_meteor = sum(meteor_scores) / len(meteor_scores)\n",
    "print(f'Average METEOR score: {average_meteor}')\n",
    "print('===================================================')\n",
    "\n",
    "# Print individual translations and their METEOR scores\n",
    "for input_text, ref, trans, meteor in zip(inputs, references_lower, translations_lower, meteor_scores):\n",
    "    print(f'Input: {input_text}')\n",
    "    print(f'Reference: {ref}')\n",
    "    print(f'Translation: {trans}')\n",
    "    print(f'METEOR score: {meteor:.2f}\\n')"
   ]
  },
  {
   "cell_type": "code",
   "execution_count": null,
   "id": "632f4b73-0431-48fb-bbbb-01fefa7ab6f2",
   "metadata": {},
   "outputs": [],
   "source": []
  }
 ],
 "metadata": {
  "kernelspec": {
   "display_name": "Python 3 (ipykernel)",
   "language": "python",
   "name": "python3"
  },
  "language_info": {
   "codemirror_mode": {
    "name": "ipython",
    "version": 3
   },
   "file_extension": ".py",
   "mimetype": "text/x-python",
   "name": "python",
   "nbconvert_exporter": "python",
   "pygments_lexer": "ipython3",
   "version": "3.11.3"
  }
 },
 "nbformat": 4,
 "nbformat_minor": 5
}
