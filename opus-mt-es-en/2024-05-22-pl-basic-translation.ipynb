{
 "cells": [
  {
   "cell_type": "markdown",
   "id": "30db1fa8-cd5f-4862-87c7-18ef2c0c06b0",
   "metadata": {},
   "source": [
    "### Pipeline method\n",
    "A pipeline is initialized using the specified model.\n"
   ]
  },
  {
   "cell_type": "code",
   "execution_count": null,
   "id": "b547bffc-6524-41eb-acf9-2d393a4df51e",
   "metadata": {},
   "outputs": [],
   "source": [
    "# Use a pipeline as a high-level helper\n",
    "from transformers import pipeline\n",
    "\n",
    "# Initialize the translation pipeline\n",
    "pipe = pipeline(\"translation\", model=\"Helsinki-NLP/opus-mt-es-en\")"
   ]
  },
  {
   "cell_type": "markdown",
   "id": "02b0af52-d5a0-4975-8303-7fe562623971",
   "metadata": {},
   "source": [
    "The Spanish text is translated to English using the \"pipe\" object."
   ]
  },
  {
   "cell_type": "code",
   "execution_count": null,
   "id": "4af7cc85-2f9d-4281-8436-9cd69348d15c",
   "metadata": {},
   "outputs": [],
   "source": [
    "%%time\n",
    "\n",
    "# Test translation using the pipeline\n",
    "spanish_text = \"Hola, ¿cómo estás?\"\n",
    "english_translation = pipe(spanish_text)[0]['translation_text']\n",
    "print(f\"Pipeline Translation: {english_translation}\")"
   ]
  },
  {
   "cell_type": "markdown",
   "id": "5be4024c-bb28-4248-869d-47b3e7375141",
   "metadata": {},
   "source": [
    "### Direct model loading method\n",
    "The \"AutoTokenizer\" and \"AutoModelForSeq2SeqLM\" classes from the \"transformers\" library are used to load the tokenizer and the model directly."
   ]
  },
  {
   "cell_type": "code",
   "execution_count": null,
   "id": "3b58f8b2-4515-48fb-9bde-703c536a157e",
   "metadata": {},
   "outputs": [],
   "source": [
    "# Load model directly\n",
    "from transformers import AutoTokenizer, AutoModelForSeq2SeqLM\n",
    "\n",
    "# Initialize the tokenizer and model\n",
    "tokenizer = AutoTokenizer.from_pretrained(\"Helsinki-NLP/opus-mt-es-en\")\n",
    "model = AutoModelForSeq2SeqLM.from_pretrained(\"Helsinki-NLP/opus-mt-es-en\")"
   ]
  },
  {
   "cell_type": "markdown",
   "id": "b0618d0f-1e49-4fbb-b033-f234fe37e2c9",
   "metadata": {},
   "source": [
    "The Spanish input text is tokenized, then the model generates the translation from the tokenized input. The output tokens are decoded to get the final English translation."
   ]
  },
  {
   "cell_type": "code",
   "execution_count": null,
   "id": "197d5204-07f2-4675-ab70-5f7357bac50b",
   "metadata": {},
   "outputs": [],
   "source": [
    "%%time\n",
    "\n",
    "# Tokenize the input text\n",
    "inputs = tokenizer(spanish_text, return_tensors=\"pt\")\n",
    "\n",
    "# Generate translation using the model\n",
    "outputs = model.generate(**inputs)\n",
    "\n",
    "# Decode the generated tokens to get the translation\n",
    "english_translation_direct = tokenizer.decode(outputs[0], skip_special_tokens=True)\n",
    "print(f\"Direct Model Translation: {english_translation_direct}\")"
   ]
  },
  {
   "cell_type": "code",
   "execution_count": null,
   "id": "4c9113a3-6217-4d4e-9a02-5de95f2e3fef",
   "metadata": {},
   "outputs": [],
   "source": []
  }
 ],
 "metadata": {
  "kernelspec": {
   "display_name": "Python 3 (ipykernel)",
   "language": "python",
   "name": "python3"
  },
  "language_info": {
   "codemirror_mode": {
    "name": "ipython",
    "version": 3
   },
   "file_extension": ".py",
   "mimetype": "text/x-python",
   "name": "python",
   "nbconvert_exporter": "python",
   "pygments_lexer": "ipython3",
   "version": "3.11.3"
  }
 },
 "nbformat": 4,
 "nbformat_minor": 5
}
