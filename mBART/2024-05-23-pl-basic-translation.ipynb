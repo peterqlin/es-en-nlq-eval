{
 "cells": [
  {
   "cell_type": "code",
   "execution_count": null,
   "id": "3bc5664f-1712-41b6-89e9-219c5624b127",
   "metadata": {},
   "outputs": [],
   "source": [
    "from transformers import MBartForConditionalGeneration, MBart50TokenizerFast\n",
    "\n",
    "# Load the model and tokenizer\n",
    "model_name = 'facebook/mbart-large-50-many-to-many-mmt'\n",
    "model = MBartForConditionalGeneration.from_pretrained(model_name)\n",
    "tokenizer = MBart50TokenizerFast.from_pretrained(model_name)"
   ]
  },
  {
   "cell_type": "code",
   "execution_count": null,
   "id": "e69c077b-2377-4f9c-adf3-9fc4e572fe3d",
   "metadata": {},
   "outputs": [],
   "source": [
    "# Set source and target languages\n",
    "source_lang = 'es_XX'  # Spanish\n",
    "target_lang = 'en_XX'  # English"
   ]
  },
  {
   "cell_type": "code",
   "execution_count": null,
   "id": "8728ecd8-2eb9-491b-8326-03f5c6b17aa3",
   "metadata": {},
   "outputs": [],
   "source": [
    "input_text = \"tendencia del volumen del total de recetas para del año pasado.\"\n",
    "\n",
    "# Set the tokenizer to the source language\n",
    "tokenizer.src_lang = source_lang\n",
    "encoded_input = tokenizer(input_text, return_tensors=\"pt\")"
   ]
  },
  {
   "cell_type": "code",
   "execution_count": null,
   "id": "6e72b866-7dc5-431a-be28-b46ad4dd5fc0",
   "metadata": {},
   "outputs": [],
   "source": [
    "%%time\n",
    "\n",
    "# Generate the translation\n",
    "translated_tokens = model.generate(\n",
    "    **encoded_input,\n",
    "    forced_bos_token_id=tokenizer.lang_code_to_id[target_lang]\n",
    ")"
   ]
  },
  {
   "cell_type": "code",
   "execution_count": null,
   "id": "6b212da1-2082-45a0-98dd-3f77c10bf741",
   "metadata": {},
   "outputs": [],
   "source": [
    "%%time\n",
    "\n",
    "translated_text = tokenizer.batch_decode(translated_tokens, skip_special_tokens=True)[0]\n",
    "print(translated_text)"
   ]
  },
  {
   "cell_type": "code",
   "execution_count": null,
   "id": "89e04a5c-d9f6-4c93-8b47-607a4a7746a4",
   "metadata": {},
   "outputs": [],
   "source": []
  }
 ],
 "metadata": {
  "kernelspec": {
   "display_name": "Python 3 (ipykernel)",
   "language": "python",
   "name": "python3"
  },
  "language_info": {
   "codemirror_mode": {
    "name": "ipython",
    "version": 3
   },
   "file_extension": ".py",
   "mimetype": "text/x-python",
   "name": "python",
   "nbconvert_exporter": "python",
   "pygments_lexer": "ipython3",
   "version": "3.11.3"
  }
 },
 "nbformat": 4,
 "nbformat_minor": 5
}
