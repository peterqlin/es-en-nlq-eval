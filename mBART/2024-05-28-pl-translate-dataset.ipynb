{
 "cells": [
  {
   "cell_type": "code",
   "execution_count": null,
   "id": "86d99e0a-ce0a-465b-9ee0-d733b9537e0d",
   "metadata": {},
   "outputs": [],
   "source": [
    "import pandas as pd\n",
    "\n",
    "# Load the cleaned Spanish -> English dataset\n",
    "df = pd.read_csv('../datasets/cleaned_es_en_dataset.csv', delimiter=';', encoding='utf-8')\n",
    "inputs = df['input_text'].tolist()"
   ]
  },
  {
   "cell_type": "code",
   "execution_count": null,
   "id": "2bdb31e7-dcbe-438d-a57e-a7b6af9ba782",
   "metadata": {},
   "outputs": [],
   "source": [
    "from transformers import MBartForConditionalGeneration, MBart50TokenizerFast\n",
    "\n",
    "# Load the model and tokenizer\n",
    "model_name = 'facebook/mbart-large-50-many-to-many-mmt'\n",
    "model = MBartForConditionalGeneration.from_pretrained(model_name)\n",
    "tokenizer = MBart50TokenizerFast.from_pretrained(model_name)\n",
    "\n",
    "# 10.2 to 11.7 to 8.6\n",
    "# delta is ~1.5gb\n",
    "\n",
    "# 9.1 to 10.7 to 6.8\n",
    "# delta is ~1.6gb\n",
    "\n",
    "# 9 to 10.3 to 8.6\n",
    "# delta is ~1.3gb\n",
    "\n",
    "# 9.5 to 11.2\n",
    "# delta is ~1.7gb"
   ]
  },
  {
   "cell_type": "code",
   "execution_count": null,
   "id": "e5a7c1a4-7de7-4f9b-8c03-2ab5ff2f6e1b",
   "metadata": {},
   "outputs": [],
   "source": [
    "# Set source and target languages\n",
    "source_lang = 'es_XX'  # Spanish\n",
    "target_lang = 'en_XX'  # English\n",
    "\n",
    "# Set the tokenizer to the source language\n",
    "tokenizer.src_lang = source_lang"
   ]
  },
  {
   "cell_type": "code",
   "execution_count": null,
   "id": "cefeac0a-8368-4aaa-89f8-0b76203ce174",
   "metadata": {},
   "outputs": [],
   "source": [
    "import time\n",
    "\n",
    "# Generate translations (takes ~x minutes)\n",
    "translations = []\n",
    "times = []\n",
    "token_counts = []\n",
    "for text in inputs:\n",
    "    encoded_input = tokenizer(text, return_tensors=\"pt\")\n",
    "    \n",
    "    start_time = time.time()\n",
    "    translated_tokens = model.generate(\n",
    "        **encoded_input,\n",
    "        forced_bos_token_id=tokenizer.lang_code_to_id[target_lang]\n",
    "    )\n",
    "    end_time = time.time()\n",
    "    \n",
    "    translated_text = tokenizer.batch_decode(translated_tokens, skip_special_tokens=True)[0]\n",
    "    translations.append(translated_text)\n",
    "    times.append(end_time - start_time)\n",
    "    num_tokens = len(encoded_input.input_ids[0])\n",
    "    token_counts.append(num_tokens)\n",
    "\n",
    "total_time = sum(times)\n",
    "total_tokens = sum(token_counts)\n",
    "average_time_per_token = total_time / total_tokens"
   ]
  },
  {
   "cell_type": "code",
   "execution_count": null,
   "id": "76c18696-cc6d-4417-a3e6-21741fd3e9ec",
   "metadata": {},
   "outputs": [],
   "source": [
    "print(f'Total time taken: {total_time:.6f} seconds')\n",
    "print(f'Total number of tokens: {total_tokens}')\n",
    "print(f'Average time per token: {average_time_per_token:.6f} seconds')\n",
    "print('=================================================================')\n",
    "\n",
    "for text, translation, duration, token_count in zip(inputs, translations, times, token_counts):\n",
    "    print(f'Spanish text: {text}')\n",
    "    print(f'English translation: {translation}')\n",
    "    print(f'Time taken: {duration:.6f} seconds')\n",
    "    print(f'Number of tokens: {token_count}\\n')"
   ]
  },
  {
   "cell_type": "code",
   "execution_count": null,
   "id": "b49eebf3-f7c7-4054-bfeb-12820973a531",
   "metadata": {},
   "outputs": [],
   "source": [
    "# Save translated text to a new CSV file\n",
    "tr_df = pd.DataFrame(translations, columns=['translated_text'])\n",
    "tr_df.to_csv('../translated-datasets/mbart-large-50-many-to-many-mmt-translated_es_en_dataset.csv', sep=';', index=False)"
   ]
  },
  {
   "cell_type": "code",
   "execution_count": null,
   "id": "43c58024-61b0-41f1-8177-2d376be918e5",
   "metadata": {},
   "outputs": [],
   "source": []
  }
 ],
 "metadata": {
  "kernelspec": {
   "display_name": "Python 3 (ipykernel)",
   "language": "python",
   "name": "python3"
  },
  "language_info": {
   "codemirror_mode": {
    "name": "ipython",
    "version": 3
   },
   "file_extension": ".py",
   "mimetype": "text/x-python",
   "name": "python",
   "nbconvert_exporter": "python",
   "pygments_lexer": "ipython3",
   "version": "3.11.3"
  }
 },
 "nbformat": 4,
 "nbformat_minor": 5
}
