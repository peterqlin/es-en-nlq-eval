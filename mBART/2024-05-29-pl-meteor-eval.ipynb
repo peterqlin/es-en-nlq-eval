{
 "cells": [
  {
   "cell_type": "code",
   "execution_count": null,
   "id": "bee6f841-4a7c-4a03-adb4-0f03b15ade1c",
   "metadata": {},
   "outputs": [],
   "source": [
    "import pandas as pd\n",
    "\n",
    "# Load the cleaned Spanish -> English dataset\n",
    "df = pd.read_csv('../datasets/cleaned_es_en_dataset.csv', delimiter=';', encoding='utf-8')\n",
    "inputs = df['input_text'].tolist()\n",
    "references = df['reference_translation'].tolist()\n",
    "references_lower = [s.lower() for s in references]\n",
    "\n",
    "# Load the translated text dataset\n",
    "tr_df = pd.read_csv('../translated-datasets/mbart-large-50-many-to-many-mmt-translated_es_en_dataset.csv', delimiter=';', encoding='utf-8')\n",
    "translations = tr_df['translated_text'].tolist()\n",
    "translations_lower = [s.lower() for s in translations]"
   ]
  },
  {
   "cell_type": "code",
   "execution_count": null,
   "id": "7696c2c6-afb8-41e8-a497-8c94d9777042",
   "metadata": {},
   "outputs": [],
   "source": [
    "import nltk\n",
    "from nltk.translate.meteor_score import meteor_score\n",
    "nltk.download('punkt')\n",
    "nltk.download('wordnet')\n",
    "\n",
    "tokenized_translations = [nltk.word_tokenize(trans) for trans in translations_lower]\n",
    "tokenized_references = [nltk.word_tokenize(ref) for ref in references_lower]\n",
    "\n",
    "meteor_scores = [meteor_score([ref], trans) for ref, trans in zip(tokenized_references, tokenized_translations)]\n",
    "\n",
    "# Average METEOR score (0.25)\n",
    "average_meteor = sum(meteor_scores) / len(meteor_scores)\n",
    "print(f'Average METEOR score: {average_meteor:.4f}')\n",
    "print('===================================================')\n",
    "\n",
    "# Print individual translations and their METEOR scores\n",
    "for input_text, ref, trans, meteor in zip(inputs, references_lower, translations_lower, meteor_scores):\n",
    "    print(f'Input: {input_text}')\n",
    "    print(f'Reference: {ref}')\n",
    "    print(f'Translation: {trans}')\n",
    "    print(f'METEOR score: {meteor:.4f}\\n')"
   ]
  },
  {
   "cell_type": "code",
   "execution_count": null,
   "id": "d35e640d-028e-48ab-a181-cfc375bd0bbb",
   "metadata": {},
   "outputs": [],
   "source": []
  }
 ],
 "metadata": {
  "kernelspec": {
   "display_name": "Python 3 (ipykernel)",
   "language": "python",
   "name": "python3"
  },
  "language_info": {
   "codemirror_mode": {
    "name": "ipython",
    "version": 3
   },
   "file_extension": ".py",
   "mimetype": "text/x-python",
   "name": "python",
   "nbconvert_exporter": "python",
   "pygments_lexer": "ipython3",
   "version": "3.11.3"
  }
 },
 "nbformat": 4,
 "nbformat_minor": 5
}
